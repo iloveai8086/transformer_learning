{
 "cells": [
  {
   "cell_type": "code",
   "execution_count": 1,
   "metadata": {
    "collapsed": true
   },
   "outputs": [
    {
     "name": "stdout",
     "output_type": "stream",
     "text": [
      "2.3.0\n",
      "sys.version_info(major=3, minor=8, micro=5, releaselevel='final', serial=0)\n",
      "matplotlib 3.2.2\n",
      "numpy 1.18.5\n",
      "pandas 1.1.4\n",
      "sklearn 0.23.2\n",
      "tensorflow 2.3.0\n",
      "tensorflow.keras 2.4.0\n",
      "b'e quando melhoramos a procura , tiramos a \\xc3\\xbanica vantagem da impress\\xc3\\xa3o , que \\xc3\\xa9 a serendipidade .'\n",
      "b'and when you improve searchability , you actually take away the one advantage of print , which is serendipity .'\n",
      "\n",
      "b'mas e se estes fatores fossem ativos ?'\n",
      "b'but what if it were active ?'\n",
      "\n",
      "b'mas eles n\\xc3\\xa3o tinham a curiosidade de me testar .'\n",
      "b\"but they did n't test for curiosity .\"\n",
      "\n",
      "b'e esta rebeldia consciente \\xc3\\xa9 a raz\\xc3\\xa3o pela qual eu , como agn\\xc3\\xb3stica , posso ainda ter f\\xc3\\xa9 .'\n",
      "b'and this conscious defiance is why i , as an agnostic , can still have faith .'\n",
      "\n",
      "b\"`` `` '' podem usar tudo sobre a mesa no meu corpo . ''\"\n",
      "b'you can use everything on the table on me .'\n",
      "\n"
     ]
    }
   ],
   "source": [
    "import matplotlib as mpl\n",
    "import matplotlib.pyplot as plt\n",
    "import numpy as np\n",
    "import sklearn\n",
    "import pandas as pd\n",
    "import os\n",
    "import sys\n",
    "import time\n",
    "import tensorflow as tf\n",
    "import tensorflow_datasets as tfds\n",
    "from tensorflow import keras\n",
    "\n",
    "print(tf.__version__)\n",
    "print(sys.version_info)\n",
    "for module in mpl, np, pd, sklearn, tf, keras:\n",
    "    print(module.__name__, module.__version__)\n",
    "\n",
    "# 1. loads data\n",
    "# 2. preprocesses data -> dataset\n",
    "# 3. tools\n",
    "# 3.1 generates position embedding   生成位置编码\n",
    "# 3.2 create mask. (a. padding, b. decoder)  一个是padding损失mask 一个是decoder不能看到后面词的mask\n",
    "# 3.3 scaled_dot_product_attention  缩放点积注意力\n",
    "# 4. builds model\n",
    "# 4.1 MultiheadAttention\n",
    "# 4.2 EncoderLayer   一个block\n",
    "# 4.3 DecoderLayer\n",
    "# 4.4 EncoderModel\n",
    "# 4.5 DecoderModel\n",
    "# 4.6 Transformer\n",
    "# 5. optimizer & loss\n",
    "# 6. train step -> train\n",
    "# 7. Evaluate and Visualize\n",
    "\n",
    "examples, info = tfds.load('ted_hrlr_translate/pt_to_en',  # TED演讲。。。\n",
    "                           with_info = True,\n",
    "                           as_supervised = True)  # 基于subword的数据集\n",
    "\n",
    "train_examples, val_examples = examples['train'], examples['validation']\n",
    "# print(info)\n",
    "\n",
    "for pt,en in train_examples.take(5):  # 我们看到这个数据葡萄牙语的特殊字符已经被转义，并且标点符号前后都用了空格\n",
    "    print(pt.numpy())  # 因为已经是dataset的格式所以看数据需要转化为numpy\n",
    "    print(en.numpy())\n",
    "    print()"
   ]
  },
  {
   "cell_type": "code",
   "execution_count": 2,
   "outputs": [],
   "source": [
    "# 构建subword数据集\n",
    "en_tokenizer = tfds.deprecated.text.SubwordTextEncoder.build_from_corpus((\n",
    "    en.numpy() for pt,en in train_examples),\n",
    "    target_vocab_size = 2**13)  # 8192\n",
    "pt_tokenizer = tfds.deprecated.text.SubwordTextEncoder.build_from_corpus((\n",
    "    pt.numpy() for pt,en in train_examples),\n",
    "    target_vocab_size = 2**13)"
   ],
   "metadata": {
    "collapsed": false,
    "pycharm": {
     "name": "#%%\n"
    }
   }
  },
  {
   "cell_type": "code",
   "execution_count": 3,
   "outputs": [
    {
     "name": "stdout",
     "output_type": "stream",
     "text": [
      "Tokenized string is [7915, 1248, 7946, 7194, 13, 2799, 7877]\n",
      "The original string is Transformer is awesome.\n",
      "7915-->\"T\"\n",
      "1248-->\"ran\"\n",
      "7946-->\"s\"\n",
      "7194-->\"former \"\n",
      "13-->\"is \"\n",
      "2799-->\"awesome\"\n",
      "7877-->\".\"\n"
     ]
    }
   ],
   "source": [
    "sample_string = \"Transformer is awesome.\"\n",
    "tokenized_string = en_tokenizer.encode(sample_string)\n",
    "print('Tokenized string is {}'.format(tokenized_string))\n",
    "origin_string = en_tokenizer.decode(tokenized_string)\n",
    "print('The original string is {}'.format(origin_string))\n",
    "assert origin_string == sample_string\n",
    "for token in tokenized_string:  # 加了个引号就知道空格去哪了，跟在单词后面\n",
    "    print('{}-->\"{}\"'.format(token,en_tokenizer.decode([token])))  # decode必须传列表\n",
    "\n"
   ],
   "metadata": {
    "collapsed": false,
    "pycharm": {
     "name": "#%%\n"
    }
   }
  },
  {
   "cell_type": "code",
   "execution_count": 4,
   "outputs": [],
   "source": [
    "# 创建数据集\n",
    "buffer_szie = 20000\n",
    "batch_szie = 64\n",
    "max_length = 40\n",
    "\n",
    "def encode_to_subword(pt_sentence,en_sentence):\n",
    "    # 和seq2seq + attention 一样，这里为句子的前后都加上特殊字符的ID\n",
    "    # 因为词表是 vocab size - 1\n",
    "    pt_sentence = [pt_tokenizer.vocab_size] + pt_tokenizer.encode(pt_sentence.numpy()) \\\n",
    "                  + [pt_tokenizer.vocab_size + 1]\n",
    "    en_sentence =  [en_tokenizer.vocab_size] + en_tokenizer.encode(en_sentence.numpy()) \\\n",
    "                   + [en_tokenizer.vocab_size + 1]\n",
    "    return pt_sentence,en_sentence\n",
    "\n",
    "\n",
    "def filter_by_max_length(pt,en):  # 因为是tensor的计算所以这边同TF的api，将小于max-length句子过滤掉\n",
    "    return tf.logical_and(tf.size(pt) <= max_length,\n",
    "                          tf.size(en) <= max_length)\n",
    "\n",
    "def tf_encode_to_subword(pt_sentence,en_sentence):\n",
    "    # 因为tf的dataset的map函数不可以接受python函数，所以需要把函数给用pyfunc进行封装\n",
    "    # 这个py_function 接受原函数的输入，规定原函数的返回结果的类型\n",
    "    return tf.py_function(encode_to_subword,[pt_sentence,en_sentence],[tf.int64,tf.int64])\n",
    "\n",
    "train_dataset = train_examples.map(tf_encode_to_subword)\n",
    "train_dataset = train_dataset.filter(filter_by_max_length)\n",
    "train_dataset = train_dataset.shuffle(buffer_szie).padded_batch(\n",
    "    batch_szie,padded_shapes = ([-1],[-1]))  # 这两个-1表示将数据都pad到本身维度的最大值\n",
    "\n",
    "valid_dataset = val_examples.map(tf_encode_to_subword)\n",
    "valid_dataset = valid_dataset.filter(filter_by_max_length)\n",
    "valid_dataset = valid_dataset.shuffle(buffer_szie).padded_batch(\n",
    "    batch_szie,padded_shapes = ([-1],[-1]))\n",
    "\n"
   ],
   "metadata": {
    "collapsed": false,
    "pycharm": {
     "name": "#%%\n"
    }
   }
  },
  {
   "cell_type": "code",
   "execution_count": 5,
   "outputs": [
    {
     "name": "stdout",
     "output_type": "stream",
     "text": [
      "(64, 38) (64, 40)\n",
      "(64, 37) (64, 38)\n",
      "(64, 39) (64, 37)\n",
      "(64, 36) (64, 38)\n",
      "(64, 38) (64, 40)\n"
     ]
    }
   ],
   "source": [
    "for pt_batch,en_batch in valid_dataset.take(5):\n",
    "    print(pt_batch.shape,en_batch.shape)"
   ],
   "metadata": {
    "collapsed": false,
    "pycharm": {
     "name": "#%%\n"
    }
   }
  },
  {
   "cell_type": "code",
   "execution_count": 6,
   "outputs": [
    {
     "name": "stdout",
     "output_type": "stream",
     "text": [
      "(1, 50, 512)\n"
     ]
    }
   ],
   "source": [
    "# 位置编码\n",
    "# PE(pos, 2i)   = sin(pos / 10000^(2i/d_model))\n",
    "# PE(pos, 2i+1) = cos(pos / 10000^(2i/d_model))\n",
    "\n",
    "# pos.shape: [sentence_length, 1]\n",
    "# i.shape  : [1, d_model]\n",
    "# result.shape: [sentence_length, d_model]\n",
    "def get_angles(pos,i,d_model): # pos为在句子中的位置，i为embedding的位置\n",
    "    # 先把i整除2 再乘以2 就区分了奇偶，看公式，奇数计算要的是比奇数小1的偶数\n",
    "    # 相乘之后就i得到了sentence 相对于embedding的每一个位置的角度值\n",
    "    angle_rates = 1 / np.power(10000,2 * (i // 2) / np.float32(d_model))\n",
    "    return pos * angle_rates\n",
    "\n",
    "def get_position_embedding(sentence_length,d_model):\n",
    "    angle_rads = get_angles(np.arange(sentence_length)[:,np.newaxis],  # 看上面注释。需要把这两个给扩展成矩阵，新增维度\n",
    "                            np.arange(d_model)[np.newaxis,:],\n",
    "                            d_model)\n",
    "    # sines.shape = [sentence_length,d_model / 2]\n",
    "    # cosines.shape  = [sentence_length,d_model / 2]\n",
    "    sines = np.sin(angle_rads[:,0::2])  # 从零开始每隔一个取一个就是偶数\n",
    "    cosines = np.cos(angle_rads[:,1::2])  # 奇数\n",
    "    # 拼接起来上面两个  shape = [sentence_length,d_model]\n",
    "    positional_embedding = np.concatenate([sines,cosines],axis = -1)\n",
    "    # 为了使用方便还需要最前面加一个维度  shape = [1,sentence_length,d_model]\n",
    "    positional_embedding = positional_embedding[np.newaxis,...]\n",
    "\n",
    "    return tf.cast(positional_embedding,dtype = tf.float32)\n",
    "\n",
    "\n",
    "position_embedding = get_position_embedding(50,512)\n",
    "print(position_embedding.shape)\n"
   ],
   "metadata": {
    "collapsed": false,
    "pycharm": {
     "name": "#%%\n"
    }
   }
  },
  {
   "cell_type": "code",
   "execution_count": 7,
   "outputs": [
    {
     "data": {
      "text/plain": "<Figure size 432x288 with 2 Axes>",
      "image/png": "[encoded data removed]"
     },
     "metadata": {
      "needs_background": "light"
     },
     "output_type": "display_data"
    }
   ],
   "source": [
    "def plot_position_embedding(position_embedding):\n",
    "    plt.pcolormesh(position_embedding[0],cmap = 'RdBu')\n",
    "    plt.xlabel('depth')\n",
    "    plt.xlim((0,512))\n",
    "    plt.ylabel('position')\n",
    "    plt.colorbar()\n",
    "    plt.show()\n",
    "\n",
    "plot_position_embedding(position_embedding)"
   ],
   "metadata": {
    "collapsed": false,
    "pycharm": {
     "name": "#%%\n"
    }
   }
  },
  {
   "cell_type": "code",
   "execution_count": 8,
   "outputs": [
    {
     "data": {
      "text/plain": "<tf.Tensor: shape=(3, 1, 1, 5), dtype=float32, numpy=\narray([[[[0., 0., 1., 1., 0.]]],\n\n\n       [[[0., 0., 0., 1., 1.]]],\n\n\n       [[[1., 1., 1., 0., 0.]]]], dtype=float32)>"
     },
     "execution_count": 8,
     "metadata": {},
     "output_type": "execute_result"
    }
   ],
   "source": [
    "# 如何生成mask\n",
    "# 1、padding的mask   没必要对padding的部分做self attention\n",
    "# 2、look ahead mask  decoder只能和之前词语发生attention  而不能和之后的词语发生attention\n",
    "def create_padding_mask(batch_data):  # batch-data 的shape是 （batch-size，seq-len）\n",
    "    # 是零的最后就是1 不是零的是0，和seq2seq不一样，那里面取反了   1是忽略\n",
    "    padding_mask  = tf.cast(tf.math.equal(batch_data,0),dtype = tf.float32)\n",
    "    # 为了方便和attention的维度方便计算，添加一些维度\n",
    "    # return.shape = (batch-size,1,1,seq-len)\n",
    "    return padding_mask[:,np.newaxis,np.newaxis,:]\n",
    "\n",
    "x = tf.constant([[7,6,0,0,1],[1,2,3,0,0],[0,0,0,4,5]])\n",
    "create_padding_mask(x)"
   ],
   "metadata": {
    "collapsed": false,
    "pycharm": {
     "name": "#%%\n"
    }
   }
  },
  {
   "cell_type": "code",
   "execution_count": 9,
   "outputs": [
    {
     "data": {
      "text/plain": "<tf.Tensor: shape=(3, 3), dtype=float32, numpy=\narray([[0., 1., 1.],\n       [0., 0., 1.],\n       [0., 0., 0.]], dtype=float32)>"
     },
     "execution_count": 9,
     "metadata": {},
     "output_type": "execute_result"
    }
   ],
   "source": [
    "# attention_weights.shape: [3,3]\n",
    "# [[1, 2, 3],           [a11,a12,a13]\n",
    "#  [4, 5, 3],           [a21,a22,a23]\n",
    "#  [7, 8, 9]]           [a31,a32,a33]\n",
    "# 上面矩阵是什么意思，就是1代表第一个词和自己的attention，12就是1和2的，依次类推\n",
    "# 那么，下标11 22 33 就是极限，自己对自己的，而12 就是超出，也就是看到后面的词的，也就是要mask掉，置零\n",
    "# 那么最后就是 [a11,0,0]\n",
    "#             [a21,a22,0]\n",
    "#             [a31,a32,a33]         所以我们发现，就是要一个上三角矩阵，上三角mask，而下三角保留\n",
    "def create_look_ahead_mask(size):\n",
    "    # 这个函数就是得到下三角矩阵，num_lower=-1表示保留下三角，num_upper=0表示上三角置零\n",
    "    # 实际要和上面的匹配，上面的mask是 1是被忽略，所以我这边1减去，上三角就为1\n",
    "    mask = 1 - tf.linalg.band_part(tf.ones((size,size)),num_lower = -1,num_upper = 0)\n",
    "    # 一般传进来的size 就是seq-len  所以最后mask的shape就是 （seq-len，seq-len）\n",
    "    return mask\n",
    "\n",
    "\n",
    "create_look_ahead_mask(3)\n"
   ],
   "metadata": {
    "collapsed": false,
    "pycharm": {
     "name": "#%%\n"
    }
   }
  },
  {
   "cell_type": "code",
   "execution_count": 10,
   "outputs": [],
   "source": [
    "# 缩放点积注意力的实现\n",
    "def scaled_dot_product_attention(q,k,v,mask):\n",
    "    \"\"\"\n",
    "    Args:\n",
    "    - q: shape == (..., seq_len_q, depth)\n",
    "    - k: shape == (..., seq_len_k, depth)   q k 做矩阵乘法，所以最后一个维度depth是相等的，K转置\n",
    "    - v: shape == (..., seq_len_v, depth_v)   k v 是一一对应的，所以seq_len_k和seq_len_v也是相等的\n",
    "    - seq_len_k == seq_len_v\n",
    "    - mask: shape == (..., seq_len_q, seq_len_k)  q k 做完矩阵乘法之后，做mask\n",
    "    Returns:\n",
    "    - output: weighted sum  做完注意力和v相乘得到的加权平均的和\n",
    "    - attention_weights: weights of attention   可视化\n",
    "    \"\"\"\n",
    "\n",
    "    # matmul_qk.shape = (..., seq_len_q, seq_len_k)\n",
    "    matmul_qk = tf.matmul(q,k,transpose_b = True)  # 就是让第二个矩阵转置\n",
    "\n",
    "    # k和q的最后一个维度是相同的，原理去看我的笔记\n",
    "    dk = tf.cast(tf.shape(k)[-1],dtype = tf.float32)  # dk就k的最后一维度，因为要做开方所以转化类型\n",
    "    scaled_attention_logits = matmul_qk / tf.math.sqrt(dk)\n",
    "\n",
    "    if mask is not None:\n",
    "        # 加上mask，加上一个特别小的数  要mask的为1，不要mask的为0不受影响，一乘就出来结果了。为什么是加\n",
    "        # 因为scaled_attention_logits需要经过softmax才得到权重，加上-10^9之后，使得在softmax时候趋近于0\n",
    "        # 以达到mask的效果\n",
    "        scaled_attention_logits += (mask * -1e9)\n",
    "\n",
    "    # 达到一种权重的效果   attention_weight.shape = (..., seq_len_q, seq_len_k)\n",
    "    attention_weights = tf.nn.softmax(scaled_attention_logits,axis = -1)  # 在sqe-len这个维度进行softmax\n",
    "\n",
    "    # output.shape = (...，seq-len-q,depth-v)\n",
    "    output = tf.matmul(attention_weights,v)  # 因为attention_weights最后一个维度和v的seq_len_v相等，可以乘\n",
    "\n",
    "    return output,attention_weights\n",
    "\n",
    "def print_scaled_dot_product_attention(q,k,v):\n",
    "    temp_out, temp_att = scaled_dot_product_attention(q, k, v, None)\n",
    "    print(\"Attention weights are:\")\n",
    "    print(temp_att)\n",
    "    print(\"Output is:\")\n",
    "    print(temp_out)\n",
    "\n",
    "# 你有一个问题Q，然后去搜索引擎里面搜，搜索引擎里面有好多文章，每个文章V有一个能代表其正文内容的标题K，\n",
    "# 然后搜索引擎用你的问题Q和那些文章V的标题K进行一个匹配，看看相关度（QK --->attention值），\n",
    "# 然后你想用这些检索到的不同相关度的文章V来表示你的问题，就用这些相关度将检索的文章V做一个加权和，\n",
    "# 那么你就得到了一个新的Q'，这个Q'融合了相关性强的文章V更多信息，而融合了相关性弱的文章V较少的信息。\n",
    "# 这就是注意力机制，注意力度不同，重点关注（权值大）与你想要的东西相关性强的部分，稍微关注（权值小）相关性弱的部分。"
   ],
   "metadata": {
    "collapsed": false,
    "pycharm": {
     "name": "#%%\n"
    }
   }
  },
  {
   "cell_type": "code",
   "execution_count": 11,
   "outputs": [
    {
     "name": "stdout",
     "output_type": "stream",
     "text": [
      "Attention weights are:\n",
      "tf.Tensor([[0. 1. 0. 0.]], shape=(1, 4), dtype=float32)\n",
      "Output is:\n",
      "tf.Tensor([[10.  0.]], shape=(1, 2), dtype=float32)\n"
     ]
    }
   ],
   "source": [
    "temp_k = tf.constant([[10, 0, 0],\n",
    "                      [0, 10, 0],\n",
    "                      [0, 0, 10],\n",
    "                      [0, 0, 10]], dtype = tf.float32)  # (4, 3)\n",
    "\n",
    "temp_v = tf.constant([[1, 0],\n",
    "                      [10, 0],\n",
    "                      [100, 5],\n",
    "                      [1000, 6]], dtype = tf.float32)  # (4, 2)\n",
    "\n",
    "temp_q1 = tf.constant([[0, 10, 0]], dtype = tf.float32)  # (1, 3)   注意维度之间的相等\n",
    "# 这人说，q1是0，10，0 所以只有和k的第二行才有值，所以希望attention weights 是第一列0100\n",
    "\n",
    "np.set_printoptions(suppress = True)  # 结果四舍五入\n",
    "print_scaled_dot_product_attention(temp_q1,temp_k,temp_v)\n",
    "# 通过结果就可以发现，这里q和k只有第二行有attention，也就是权重，所以取出的v中也就只有第二行10，0\n",
    "\n"
   ],
   "metadata": {
    "collapsed": false,
    "pycharm": {
     "name": "#%%\n"
    }
   }
  },
  {
   "cell_type": "code",
   "execution_count": 12,
   "outputs": [
    {
     "name": "stdout",
     "output_type": "stream",
     "text": [
      "Attention weights are:\n",
      "tf.Tensor([[0.  0.  0.5 0.5]], shape=(1, 4), dtype=float32)\n",
      "Output is:\n",
      "tf.Tensor([[550.    5.5]], shape=(1, 2), dtype=float32)\n"
     ]
    }
   ],
   "source": [
    "temp_q2 = tf.constant([[0, 0, 10]], dtype = tf.float32)  # (1, 3)\n",
    "print_scaled_dot_product_attention(temp_q2, temp_k, temp_v)\n",
    "# 这边的结果就是0，0，10 和k最后两行有attention 所以取出的v的最后两行，并且attention都是0.5，所以会变求和，然后一半"
   ],
   "metadata": {
    "collapsed": false,
    "pycharm": {
     "name": "#%%\n"
    }
   }
  },
  {
   "cell_type": "code",
   "execution_count": 13,
   "outputs": [
    {
     "name": "stdout",
     "output_type": "stream",
     "text": [
      "Attention weights are:\n",
      "tf.Tensor([[0.5 0.5 0.  0. ]], shape=(1, 4), dtype=float32)\n",
      "Output is:\n",
      "tf.Tensor([[5.5 0. ]], shape=(1, 2), dtype=float32)\n"
     ]
    }
   ],
   "source": [
    "temp_q3 = tf.constant([[10, 10, 0]], dtype = tf.float32)  # (1, 3)\n",
    "print_scaled_dot_product_attention(temp_q3, temp_k, temp_v)  # 同上面，会在第一第二行平分"
   ],
   "metadata": {
    "collapsed": false,
    "pycharm": {
     "name": "#%%\n"
    }
   }
  },
  {
   "cell_type": "code",
   "execution_count": 14,
   "outputs": [
    {
     "name": "stdout",
     "output_type": "stream",
     "text": [
      "Attention weights are:\n",
      "tf.Tensor(\n",
      "[[0.  1.  0.  0. ]\n",
      " [0.  0.  0.5 0.5]\n",
      " [0.5 0.5 0.  0. ]], shape=(3, 4), dtype=float32)\n",
      "Output is:\n",
      "tf.Tensor(\n",
      "[[ 10.    0. ]\n",
      " [550.    5.5]\n",
      " [  5.5   0. ]], shape=(3, 2), dtype=float32)\n"
     ]
    }
   ],
   "source": [
    "# 拼起来q1，q2，q3\n",
    "temp_q4 = tf.constant([[0, 10, 0],\n",
    "                       [0, 0, 10],\n",
    "                       [10, 10, 0]], dtype = tf.float32)  # (3, 3)\n",
    "print_scaled_dot_product_attention(temp_q4, temp_k, temp_v)  # 看到结果就是上面 刚才三个组合，results和attention\n",
    "# 都是\n"
   ],
   "metadata": {
    "collapsed": false,
    "pycharm": {
     "name": "#%%\n"
    }
   }
  },
  {
   "cell_type": "code",
   "execution_count": 15,
   "outputs": [
    {
     "name": "stdout",
     "output_type": "stream",
     "text": [
      "(1, 60, 512)\n",
      "(1, 8, 60, 60)\n"
     ]
    }
   ],
   "source": [
    "# 多头注意力，采用子类api来实现\n",
    "class MultiHeadAttention(keras.layers.Layer):\n",
    "    \"\"\"\n",
    "    理论上:\n",
    "    x -> Wq0 -> q0\n",
    "    x -> Wk0 -> k0\n",
    "    x -> Wv0 -> v0\n",
    "    在里理论里面，就是把x定下来去做乘法，实际中不同场景这个初始值不一定是一样的，对于self-attention是一样的\n",
    "    实战中:\n",
    "    q -> Wq0 -> q0\n",
    "    k -> Wk0 -> k0\n",
    "    v -> Wv0 -> v0\n",
    "\n",
    "    实战中技巧： 实际中从q 到 q0.q1.q2..... 是需要乘以多个wq0  wq1  .... 下面是技巧 大矩阵 split，k，v 类似\n",
    "    q -> Wq -> Q -> split -> q0, q1, q2...                  使得运算更加密集快速\n",
    "    \"\"\"\n",
    "    def __init__(self,d_model,num_heads):\n",
    "        # 模型的维度，注意力多头的头数\n",
    "        super(MultiHeadAttention, self).__init__()\n",
    "        self.num_heads = num_heads\n",
    "        self.d_model = d_model\n",
    "        assert self.d_model % self.num_heads == 0  # 因为d-model是被分成 num-heads个的，确保整除\n",
    "        # d_model 就是 乘wq的输出，经过split分解成很多个，每一个头的depth就是\n",
    "        self.depth = self.d_model // self.num_heads\n",
    "        # 定义三个全连接，wq wk wv\n",
    "        self.WQ = keras.layers.Dense(self.d_model)\n",
    "        self.WK = keras.layers.Dense(self.d_model)\n",
    "        self.WV = keras.layers.Dense(self.d_model)\n",
    "\n",
    "        # 许多个多头注意力拼接的全连接操作，迷，已经reshape合并了，怎么还全连接合并？\n",
    "        self.dense = keras.layers.Dense(self.d_model)\n",
    "\n",
    "    def split_heads(self,x,batch_size):\n",
    "        # x.shape: (batch_size, seq_len, d_model)\n",
    "        # d_model = num_heads * depth\n",
    "        # x -> (batch_size, num_heads, seq_len, depth)\n",
    "        x = tf.reshape(x,(batch_size,-1,self.num_heads,self.depth))  # 就是把一开始的d-model分成两个\n",
    "        # 在做维度重排列   只需要交换seq_len  num_heads\n",
    "        return tf.transpose(x,perm = [0,2,1,3])\n",
    "\n",
    "\n",
    "    def call(self,q,k,v,mask):\n",
    "        batch_size = tf.shape(q)[0]\n",
    "        # 在这之前qkv是什么，可以认为是经过embedding的，所以shape为（batch_size,seq_len,embedding-dim）\n",
    "        # 也可以认为就是中间层的结果，那么最后一个维度就是输出的大小，依据模型而定\n",
    "        # 分别让q，k，v经过三个全连接然后得到大矩阵\n",
    "        q = self.WQ(q)  # q.shape = (batch_size,sqe_len_q,d_model)\n",
    "        k = self.WK(k)  # k.shape = (batch_size,sqe_len_k,d_model)\n",
    "        v = self.WV(v)  # v.shape = (batch_size,sqe_len_v,d_model)\n",
    "        # 这边由于一开始qkv的长度不一定是一样长的，所以第二个维度也不是一样的，但是得保证k，v的长度是一样的\n",
    "        # 不懂就去看那个缩放点积注意力的函数,而且 qk的depth也应该是一样的\n",
    "\n",
    "        q = self.split_heads(q,batch_size)  # q.shape = (batch_size, num_heads, seq_len_q, depth)\n",
    "        k = self.split_heads(k,batch_size)  # k.shape = (batch_size, num_heads, seq_len_k, depth)\n",
    "        v = self.split_heads(v,batch_size)  # v.shape = (batch_size, num_heads, seq_len_v, depth)\n",
    "\n",
    "        # 这边就得到的QKV三个矩阵了，就可以计算scaled_dot_product_attention了\n",
    "        # scaled_attention_outputs.shape: (batch_size, num_heads, seq_len_q, depth)\n",
    "        # attention_weights.shape: (batch_size, num_heads, seq_len_q, seq_len_k)\n",
    "        scaled_attention_outputs,attention_weights = scaled_dot_product_attention(q,k,v,mask)\n",
    "\n",
    "        # 下面就是多头的拼接，由于信息都在num_heads 和 depth维度上，所以要先把num_heads, seq_len_q调换位置\n",
    "        # 然后再把最后两个维度给拼接起来\n",
    "        # scaled_attention_outputs.shape = (batch_size,seq_len_q, num_heads, depth)\n",
    "        scaled_attention_outputs = tf.transpose(scaled_attention_outputs,perm = [0,2,1,3])\n",
    "        # 这边这个合并，怎么是乘起来。哦哦哦好像是乘起来........num_heads, depth合并\n",
    "        concat_attention = tf.reshape(scaled_attention_outputs,(batch_size,-1,self.d_model))\n",
    "        # concat_attention.shape: (batch_size, seq_len_q, d_model)\n",
    "\n",
    "        # 总结一下，这里用了两次维度交换，为什么要用，变换完了又变回去呢？\n",
    "        # 是因为头与头之间的scaled_dot_product_attention 是分开来计算的，而且在这个计算的函数里面\n",
    "        # 计算attention使用了后两维进行计算，所以在split里面要先交换维度让seq_len, depth在一起\n",
    "        # 然后再换回来\n",
    "\n",
    "        # 多个头的注意力合并后做，全连接\n",
    "        output = self.dense(concat_attention)  # output.shape : (batch_size, seq_len_q, d_model)\n",
    "\n",
    "        return output,attention_weights\n",
    "\n",
    "\n",
    "temp_mha = MultiHeadAttention(d_model = 512,num_heads = 8)\n",
    "y = tf.random.uniform((1,60,256))  # 随机初始化(batch，seq-len，dim)\n",
    "# y当作qkv三个\n",
    "output,atten = temp_mha(y,y,y,mask = None)\n",
    "print(output.shape)\n",
    "print(atten.shape)\n",
    "\n"
   ],
   "metadata": {
    "collapsed": false,
    "pycharm": {
     "name": "#%%\n"
    }
   }
  },
  {
   "cell_type": "code",
   "execution_count": 16,
   "outputs": [
    {
     "name": "stdout",
     "output_type": "stream",
     "text": [
      "(64, 50, 512)\n"
     ]
    }
   ],
   "source": [
    "# feed forward 再decoder 和encoder都用到\n",
    "def feed_forward_network(d_model, dff):\n",
    "    # dff: dim of feed forward network.\n",
    "    return keras.Sequential([\n",
    "        keras.layers.Dense(dff, activation = 'relu'),\n",
    "        keras.layers.Dense(d_model)\n",
    "    ])\n",
    "\n",
    "\n",
    "sample_ffn = feed_forward_network(512, 2048)\n",
    "print(sample_ffn(tf.random.uniform((64, 50, 512))).shape)\n"
   ],
   "metadata": {
    "collapsed": false,
    "pycharm": {
     "name": "#%%\n"
    }
   }
  },
  {
   "cell_type": "code",
   "execution_count": 17,
   "outputs": [
    {
     "name": "stdout",
     "output_type": "stream",
     "text": [
      "(64, 50, 512)\n"
     ]
    }
   ],
   "source": [
    "class EncoderLayer(keras.layers.Layer):\n",
    "    # 这个encoder 做什么，  实际上还加了dropout\n",
    "    # 输入x -> self attention -> add & normalize & dropout-> feed_forward -> add & normalize & dropout\n",
    "    # 这也是为什么call函数有training  和 初始化右rate的原因\n",
    "    def __init__(self,d_model,num_heads,dff,rate = 0.1):\n",
    "        # d_model -> self attention + FC | num_heads -> self attention | dff -> FC\n",
    "        # rate is the rate of dropout\n",
    "        super(EncoderLayer,self).__init__()\n",
    "        self.mha = MultiHeadAttention(d_model,num_heads)\n",
    "        self.ffn = feed_forward_network(d_model,dff)\n",
    "        # 做add and norm  为什么用LayerNormalization\n",
    "        # 以上两点缺陷，其实都是由于batch数量过少引起的，若模型没有使用RNN，可以通过增加batch大小来解决。\n",
    "        # 使用RNN时，可以截断时间步，使得各个时间步的样本数量相同，但这样抛弃了许多信息，并不建议使用。\n",
    "        # 当没有截断时间步时，RNN靠后时间步样本少的问题无法解决，因此无法使用BN。\n",
    "        # 针对batch数过少引起问题，提出了Layer Normalization加以解决。\n",
    "        # BN是不同样本同一通道做归一化，而LN则是同一样本不同的通道归一化\n",
    "        self.layer_norm1 = keras.layers.LayerNormalization(epsilon = 1e-6)\n",
    "        self.layer_norm2 = keras.layers.LayerNormalization(epsilon = 1e-6)\n",
    "\n",
    "        self.dropout1 = keras.layers.Dropout(rate)\n",
    "        self.dropout2 = keras.layers.Dropout(rate)\n",
    "\n",
    "\n",
    "    def call(self,x,training,encoder_padding_mask):\n",
    "        # x shape = （batch_size,seq_len,dim = d_model）  或者是上一层输出的dim\n",
    "        attn_output,_ = self.mha(x,x,x,encoder_padding_mask)  # 不用attention weight  这里attn_output shape为 换行\n",
    "        # (batch_size, seq_len_q, d_model)    经过dropout  shape不变\n",
    "        attn_output = self.dropout1(attn_output,training = training)  # 是不是在训练，测试就没必要dropout\n",
    "        out1 = self.layer_norm1(x + attn_output)  #  + 就是残差连接  这边有个约束，就是x的shape和attention out 相同\n",
    "        # 那么也就是dim = d_model  也就是在层的输出或者是embedding时候 得注意这两个维度相等\n",
    "        # 所以我再初始化的时候，用的MultiHeadAttention feed_forward_network输出都是d-model\n",
    "        # out1.shape = (batch_size,seq_len,d_model)\n",
    "\n",
    "        ffn_output = self.ffn(out1)  # shape = (batch_size,seq_len,d_model)\n",
    "        ffn_output = self.dropout2(ffn_output,training = training)\n",
    "        out2 = self.layer_norm2(out1 + ffn_output)  # 看维度，能加\n",
    "        # out2.shape = (batch_size,seq_len,d_model)\n",
    "        # 因为残差连接，所以许多的shape都是一样的\n",
    "        return out2\n",
    "\n",
    "sample_encoder_layer = EncoderLayer(512,8,2048)\n",
    "sample_input = tf.random.uniform((64,50,512))  # 这两512就是必须相等的dim = d_model\n",
    "sample_output = sample_encoder_layer(sample_input,False,None)\n",
    "print(sample_output.shape)\n",
    "\n"
   ],
   "metadata": {
    "collapsed": false,
    "pycharm": {
     "name": "#%%\n"
    }
   }
  },
  {
   "cell_type": "code",
   "execution_count": 18,
   "outputs": [
    {
     "name": "stdout",
     "output_type": "stream",
     "text": [
      "(64, 60, 512)\n",
      "(64, 8, 60, 60)\n",
      "(64, 8, 60, 50)\n"
     ]
    }
   ],
   "source": [
    "# decoder layer由于有decoder和encoder之间的attention，所以有多一个层次。\n",
    "class DecoderLayer(keras.layers.Layer):\n",
    "    \"\"\"\n",
    "    x -> self attention -> add & normalize & dropout -> out1\n",
    "    out1 , encoding_outputs -> attention -> add & normalize & dropout -> out2\n",
    "    out2 -> ffn -> add & normalize & dropout -> out3\n",
    "    \"\"\"\n",
    "    def __init__(self,d_model,num_heads,dff,rate = 0.1):\n",
    "        super(DecoderLayer,self).__init__()\n",
    "        self.mha1 = MultiHeadAttention(d_model,num_heads)  # 给输入做self attention的\n",
    "        self.mha2 = MultiHeadAttention(d_model,num_heads)  # 给encoder和decoder之间做attention\n",
    "\n",
    "        self.ffn = feed_forward_network(d_model,dff)\n",
    "        # 因为上面有三个层，所以有三个layer norm 和三个dropout\n",
    "        self.layer_norm1 = keras.layers.LayerNormalization(epsilon = 1e-6)\n",
    "        self.layer_norm2 = keras.layers.LayerNormalization(epsilon = 1e-6)\n",
    "        self.layer_norm3 = keras.layers.LayerNormalization(epsilon = 1e-6)\n",
    "\n",
    "        self.dropout1 = keras.layers.Dropout(rate)\n",
    "        self.dropout2 = keras.layers.Dropout(rate)\n",
    "        self.dropout3 = keras.layers.Dropout(rate)\n",
    "\n",
    "\n",
    "    def call(self,x,encoding_outputs,training,decoder_mask, encoder_decoder_padding_mask):\n",
    "        # look_ahead_mask是decoder在解码的时，不能看到后面的单词\n",
    "        # 而padding_mask是encoder和decoder之间的mask，encoder做padding部分是无效的\n",
    "        # x.shape = (batch_size,target_seq_len,d_model)   目标语言的长度。需要做残差连接\n",
    "        # encoding_outputs.shape = (batch_size,input_seq_len,d_model)\n",
    "        # 两个d_model 虽然名字一样但是实际上一个是encoder里面的，一个是decoder里面的，但值一样的\n",
    "        attn1,attn_weights1 = self.mha1(x,x,x,decoder_mask)  # attn1 (batch_size,target_seq_len,d_model)\n",
    "        attn1 = self.dropout1(attn1,training = training)\n",
    "        out1 = self.layer_norm1(x + attn1)  # (batch_size,target_seq_len,d_model)\n",
    "\n",
    "        # attn2,out2 : (batch_size,target_seq_len,d_model)\n",
    "        attn2,attn_weights2 = self.mha2(out1,encoding_outputs,encoding_outputs,encoder_decoder_padding_mask)\n",
    "        attn2 = self.dropout2(attn2,training = training)\n",
    "        out2 = self.layer_norm2(out1 + attn2)\n",
    "\n",
    "        # ffn_output,out3 : (batch_size,target_seq_len,d_model)\n",
    "        ffn_output = self.ffn(out2)\n",
    "        ffn_output = self.dropout3(ffn_output,training = training)\n",
    "        out3 = self.layer_norm3(ffn_output + out2)\n",
    "\n",
    "        return out3,attn_weights1,attn_weights2\n",
    "\n",
    "sample_decoder_layer = DecoderLayer(512,8,2048)\n",
    "sample_decoder_input = tf.random.uniform((64,60,512))\n",
    "sample_decoder_output, sample_decoder_attn_weights1, sample_decoder_attn_weights2 = sample_decoder_layer(\n",
    "    sample_decoder_input, sample_output, False, None, None)\n",
    "\n",
    "print(sample_decoder_output.shape)  # (64, 60, 512)\n",
    "print(sample_decoder_attn_weights1.shape)  # (64, 8, 60, 60)\n",
    "print(sample_decoder_attn_weights2.shape)  # (64, 8, 60, 50)  因为sample_output是 50\n",
    "# 所以attention1 是self attention  attention2  是两者之间的\n"
   ],
   "metadata": {
    "collapsed": false,
    "pycharm": {
     "name": "#%%\n"
    }
   }
  },
  {
   "cell_type": "code",
   "execution_count": 19,
   "outputs": [
    {
     "name": "stdout",
     "output_type": "stream",
     "text": [
      "(64, 37, 512)\n"
     ]
    }
   ],
   "source": [
    "# 构建model  堆叠layer\n",
    "class EncoderModel(keras.layers.Layer):\n",
    "    def __init__(self,num_layers,input_vocab_size,max_length,\n",
    "                 d_model,num_heads,dff,rate = 0.1):\n",
    "        # num_layer就是我有几个encoder layer    input_vocab_size 是由于需要做embedding 词表大小\n",
    "        # max length是做位置编码需要的参数 后面的参数就是encoder layer需要的参数\n",
    "        super(EncoderModel,self).__init__()\n",
    "        self.num_layers = num_layers\n",
    "        self.d_model = d_model\n",
    "        self.max_length = max_length\n",
    "\n",
    "        # 不仅有词语的embedding还得有位置的embedding\n",
    "        self.embedding = keras.layers.Embedding(input_vocab_size,self.d_model)\n",
    "        self.position_embedding = get_position_embedding(max_length,self.d_model)\n",
    "        # position_embedding.shape = (1,max_length,d_model)\n",
    "\n",
    "        # 在获得最后的Embedding做一个dropout\n",
    "        self.dropout = keras.layers.Dropout(rate)\n",
    "        self.encoder_layers = [EncoderLayer(self.d_model,num_heads,dff,rate)\n",
    "                               for _ in range(num_layers)]\n",
    "\n",
    "\n",
    "    def call(self,x,training,encoder_padding_mask):\n",
    "        # x.shape = (batch_size,sqe_len)\n",
    "        input_seq_len = tf.shape(x)[1]\n",
    "        tf.debugging.assert_less_equal(\n",
    "            input_seq_len, self.max_length,\n",
    "            \"input_seq_len should be less or equal to self.max_length\")\n",
    "        x = self.embedding(x)  # 给x做embedding  shape = (batch_size,input_seq_len,d_model)\n",
    "\n",
    "        # 让经过embedding的x和position_embedding进行加法，看我画的原理图\n",
    "        # 因为x的shape是(batch_size,input_seq_len,d_model) 想要和position_embedding加法，必须要\n",
    "        # 把position_embedding的前 input_seq_len取出来才能加 再加之前还需要进行缩放\n",
    "        # 这里是因为一开始x被embedding初始化后从属于0-1的均匀分布取值的，而乘了这个根号d model后\n",
    "        # 使得值属于（0- d_model） 缩放完后了就可以让x和position_embedding相加时候x本身起的作用大一点\n",
    "        x *= tf.math.sqrt(tf.cast(self.d_model,dtype = tf.float32))  # 初始化trick\n",
    "        # 其实在这里虽然第二个维度进行了切片但是第一个维度还没有对齐，TF会默认给position_embedding进行复制\n",
    "        x += self.position_embedding[:,:input_seq_len,:]  # 所以相当于x的每一个样本都加上position_embedding\n",
    "\n",
    "        x = self.dropout(x,training)\n",
    "        for i in range(self.num_layers):  # 然后就是多个encoder_layers的串联\n",
    "            x = self.encoder_layers[i](x,training,encoder_padding_mask)\n",
    "\n",
    "        # x.shape = (batch_size,input_seq_len,d_model) 不会发生变化\n",
    "        return x\n",
    "\n",
    "\n",
    "sample_encoder_model = EncoderModel(2,8500,max_length,512,8,2048)\n",
    "sample_encoder_model_input = tf.random.uniform((64,37))\n",
    "sample_encoder_model_output = sample_encoder_model(sample_encoder_model_input,False,\n",
    "                                                   encoder_padding_mask = None)\n",
    "print(sample_encoder_model_output.shape)\n",
    "# (batch_size,input_seq_len,d_model)\n",
    "\n"
   ],
   "metadata": {
    "collapsed": false,
    "pycharm": {
     "name": "#%%\n"
    }
   }
  },
  {
   "cell_type": "code",
   "execution_count": 20,
   "outputs": [
    {
     "name": "stdout",
     "output_type": "stream",
     "text": [
      "(64, 35, 512)\n",
      "(64, 8, 35, 35)\n",
      "(64, 8, 35, 37)\n",
      "(64, 8, 35, 35)\n",
      "(64, 8, 35, 37)\n"
     ]
    }
   ],
   "source": [
    "class DecoderModel(keras.layers.Layer):\n",
    "    def __init__(self,num_layers,target_vocab_size,max_length,d_model,\n",
    "                 num_heads,dff,rate = 0.1):\n",
    "        super(DecoderModel,self).__init__()\n",
    "        self.num_layers = num_layers\n",
    "        self.d_model = d_model\n",
    "        self.max_length = max_length\n",
    "         # 不仅有词语的embedding还得有位置的embedding\n",
    "        self.embedding = keras.layers.Embedding(target_vocab_size,self.d_model)\n",
    "        self.position_embedding = get_position_embedding(max_length,self.d_model)\n",
    "        self.dropout = keras.layers.Dropout(rate)\n",
    "\n",
    "        self.decoder_layers = [DecoderLayer(self.d_model,num_heads,dff,rate)\n",
    "                               for _ in range(self.num_layers)]\n",
    "\n",
    "\n",
    "    def call(self,x,encoding_outputs,training,decoder_mask, encoder_decoder_padding_mask):\n",
    "        # x.shape = (batch_size,out_seq_len)\n",
    "        out_seq_len = tf.shape(x)[1]\n",
    "        # 不能直接用assert 小于 因为会认为用tensor变量当成了bool使用，要使用TF的API\n",
    "        tf.debugging.assert_less_equal(\n",
    "            out_seq_len, self.max_length,\n",
    "            \"output_seq_len should be less or equal to self.max_length\")\n",
    "\n",
    "        attention_weights = {}  # 都是由decoder_layers返回回来的\n",
    "        x = self.embedding(x)  # (batch_size,out_seq_len,d_model)\n",
    "        x *= tf.math.sqrt(tf.cast(self.d_model,tf.float32))\n",
    "        x += self.position_embedding[:,:out_seq_len,:]\n",
    "\n",
    "        x = self.dropout(x,training = training)\n",
    "\n",
    "        # decoer layers 串联\n",
    "        for i in range(self.num_layers):\n",
    "            x,att1,att2 = self.decoder_layers[i](x,encoding_outputs,training,\n",
    "                                                 decoder_mask, encoder_decoder_padding_mask)\n",
    "            attention_weights['decoder_layer{}_att1'.format(i + 1)] = att1\n",
    "            attention_weights['decoder_layer{}_att2'.format(i + 1)] = att2\n",
    "        # x.shape = (batch_size,out_seq_len,d_model)  也和encoder一样不发生变化\n",
    "\n",
    "        return x,attention_weights\n",
    "\n",
    "\n",
    "sample_decoder_model = DecoderModel(2,8000,max_length,512,8,2048)\n",
    "sample_decoder_model_input = tf.random.uniform((64,35))\n",
    "sample_decoder_model_output,sample_decoder_model_att = sample_decoder_model(\n",
    "    sample_decoder_model_input,sample_encoder_model_output,training = False,\n",
    "    decoder_mask = None,\n",
    "    encoder_decoder_padding_mask = None\n",
    ")\n",
    "print(sample_decoder_model_output.shape)\n",
    "for key in sample_decoder_model_att:\n",
    "    print(sample_decoder_model_att[key].shape)\n",
    "# 从这边可以看出来，这里边attention有四个，每两个是一组，分别是自己的attention和encoder和decoder之间的\n",
    "# 一个35 一个37\n",
    "\n"
   ],
   "metadata": {
    "collapsed": false,
    "pycharm": {
     "name": "#%%\n"
    }
   }
  },
  {
   "cell_type": "code",
   "execution_count": 21,
   "outputs": [
    {
     "name": "stdout",
     "output_type": "stream",
     "text": [
      "(64, 31, 8000)\n",
      "(64, 8, 31, 31)\n",
      "(64, 8, 31, 26)\n",
      "(64, 8, 31, 31)\n",
      "(64, 8, 31, 26)\n"
     ]
    }
   ],
   "source": [
    "class Transformer(keras.Model):\n",
    "    def __init__(self, num_layers, input_vocab_size, target_vocab_size,\n",
    "                 max_length, d_model, num_heads, dff, rate = 0.1):\n",
    "        super(Transformer, self).__init__()\n",
    "        self.encoder_model = EncoderModel(num_layers,input_vocab_size,\n",
    "                                          max_length,d_model,num_heads,dff,rate)\n",
    "        self.decoder_model = DecoderModel(num_layers,target_vocab_size,\n",
    "                                          max_length,d_model,num_heads,dff,rate)\n",
    "        # final_layer接受decoder_model的输出，映射到词表大小的空间\n",
    "        self.final_layer = keras.layers.Dense(target_vocab_size)\n",
    "\n",
    "\n",
    "    def call(self,inp,tar,training,encoder_padding_mask,\n",
    "             decoder_mask, encoder_decoder_padding_mask):\n",
    "        # encoding_outputs.shape = (batch_size,input_seq_len,d_model)\n",
    "        encoding_outputs = self.encoder_model(inp,training,encoder_padding_mask)\n",
    "        decoding_outputs,attention_weights = self.decoder_model(tar,encoding_outputs,training,\n",
    "                                                                decoder_mask, encoder_decoder_padding_mask)\n",
    "        # decoding_outputs.shape = (batch_size,out_seq_len,d_model)\n",
    "\n",
    "        # predictions.shape = (batch_size,out_seq_len,target_vocab_size)\n",
    "        predictions = self.final_layer(decoding_outputs)\n",
    "\n",
    "        return predictions,attention_weights\n",
    "\n",
    "sample_transformer = Transformer(2,8500,8000,max_length,512,8,2048,0.1)\n",
    "# sample_transformer.summary()\n",
    "temp_input = tf.random.uniform((64,26))\n",
    "temp_target = tf.random.uniform((64,31))\n",
    "predictions,attention_weights = sample_transformer(temp_input,temp_target,training = False,\n",
    "                                                   encoder_padding_mask = None,\n",
    "                                                   decoder_mask = None,\n",
    "                                                   encoder_decoder_padding_mask = None)\n",
    "print(predictions.shape)\n",
    "for key in attention_weights:\n",
    "    print(attention_weights[key].shape)\n",
    "\n",
    "\n",
    "\n"
   ],
   "metadata": {
    "collapsed": false,
    "pycharm": {
     "name": "#%%\n"
    }
   }
  },
  {
   "cell_type": "code",
   "execution_count": 22,
   "outputs": [],
   "source": [
    "# training:\n",
    "# 1. initializes model.\n",
    "# 2. define loss, optimizer, learning_rate schedule\n",
    "# 3. train_step\n",
    "# 4. train process"
   ],
   "metadata": {
    "collapsed": false,
    "pycharm": {
     "name": "#%%\n"
    }
   }
  },
  {
   "cell_type": "code",
   "execution_count": 23,
   "outputs": [],
   "source": [
    "num_layers = 4\n",
    "d_model = 128\n",
    "dff = 512\n",
    "num_heads = 8\n",
    "\n",
    "input_vocab_size = pt_tokenizer.vocab_size + 2  # 加了startID 和endID\n",
    "target_vocab_size = en_tokenizer.vocab_size + 2\n",
    "\n",
    "dropout_rate = 0.1"
   ],
   "metadata": {
    "collapsed": false,
    "pycharm": {
     "name": "#%%\n"
    }
   }
  },
  {
   "cell_type": "code",
   "execution_count": 24,
   "outputs": [],
   "source": [
    "transformer = Transformer(num_layers,\n",
    "                          input_vocab_size,\n",
    "                          target_vocab_size,\n",
    "                          max_length,\n",
    "                          d_model, num_heads, dff, dropout_rate)"
   ],
   "metadata": {
    "collapsed": false,
    "pycharm": {
     "name": "#%%\n"
    }
   }
  },
  {
   "cell_type": "code",
   "execution_count": 25,
   "outputs": [],
   "source": [
    "# 自定义学习率\n",
    "# lrate = (d_model ** -0.5) * min(step_num ** (-0.5),step_num * warm_up_steps **(-1.5))\n",
    "# 这个曲线就是先增加再减小\n",
    "class CustomizedSchedule(keras.optimizers.schedules.LearningRateSchedule):\n",
    "    def __init__(self,d_model,warmup_steps = 4000):\n",
    "        super(CustomizedSchedule, self).__init__()\n",
    "\n",
    "        self.d_model = tf.cast(d_model,tf.float32)\n",
    "        self.warmup_step = warmup_steps\n",
    "\n",
    "\n",
    "    def __call__(self, step):\n",
    "        arg1 = tf.math.rsqrt(step)  # 根号x 分之一\n",
    "        arg2 = step * (self.warmup_step ** (-1.5))\n",
    "        arg3 = tf.math.rsqrt(self.d_model)\n",
    "        return arg3 * tf.math.minimum(arg1,arg2)\n",
    "\n",
    "# 这边有个参数d model  这参数就是模型的大小，当这个参数越大的时候，那么模型就比较大，从而使得我的arg3 这个参数小\n",
    "# 那么就可以让lr比较小，因为越大的模型越难以拟合需要小一点的lr\n",
    "learning_rate = CustomizedSchedule(d_model)\n",
    "optimizer = keras.optimizers.Adam(learning_rate,beta_1 = 0.9,\n",
    "                                  beta_2 = 0.98,epsilon = 1e-9)\n",
    "checkpoint_dir = './training_checkpoints_big_data'\n",
    "checkpoint_prefix = os.path.join(checkpoint_dir, \"ckpt\")\n",
    "checkpoint = tf.train.Checkpoint(Transformer = transformer)\n"
   ],
   "metadata": {
    "collapsed": false,
    "pycharm": {
     "name": "#%%\n"
    }
   }
  },
  {
   "cell_type": "code",
   "execution_count": 26,
   "outputs": [
    {
     "data": {
      "text/plain": "Text(0.5, 0, 'Train step')"
     },
     "execution_count": 26,
     "metadata": {},
     "output_type": "execute_result"
    },
    {
     "data": {
      "text/plain": "<Figure size 432x288 with 1 Axes>",
      "image/png": "[encoded data removed]"
     },
     "metadata": {
      "needs_background": "light"
     },
     "output_type": "display_data"
    }
   ],
   "source": [
    "# 图示lr\n",
    "temp_learning_rate_schedule = CustomizedSchedule(d_model)\n",
    "\n",
    "plt.plot(\n",
    "    temp_learning_rate_schedule(\n",
    "        tf.range(40000, dtype = tf.float32)))\n",
    "plt.ylabel(\"Leraning rate\")\n",
    "plt.xlabel(\"Train step\")"
   ],
   "metadata": {
    "collapsed": false,
    "pycharm": {
     "name": "#%%\n"
    }
   }
  },
  {
   "cell_type": "code",
   "execution_count": 27,
   "outputs": [],
   "source": [
    "loss_object = keras.losses.SparseCategoricalCrossentropy(\n",
    "    from_logits = True,  # 再transformer模型中最后没有使用激活函数\n",
    "    reduction = 'none'   # 需要处理mask 所以不能用这个自带的\n",
    ")\n",
    "\n",
    "def loss_function(real,pred):\n",
    "    mask = tf.math.logical_not(tf.math.equal(real,0))  # 先判断是不是0，是0就是true，取反就是false\n",
    "    loss_ = loss_object(real,pred)\n",
    "    mask = tf.cast(mask,dtype = loss_.dtype)\n",
    "    loss_ *= mask\n",
    "    return tf.reduce_mean(loss_)\n"
   ],
   "metadata": {
    "collapsed": false,
    "pycharm": {
     "name": "#%%\n"
    }
   }
  },
  {
   "cell_type": "code",
   "execution_count": 28,
   "outputs": [],
   "source": [
    "def create_masks(inp,tar):\n",
    "    # inp 是原语言的句子，tar是目标语言的句子，在机器翻译中\n",
    "    \"\"\"\n",
    "    Encoder:\n",
    "      - encoder_padding_mask (works on self attention of EncoderLayer)\n",
    "    Decoder:\n",
    "      - look_ahead_mask (self attention of DecoderLayer)  之后的词还没被预测出来\n",
    "      - encoder_decoder_padding_mask (encoder-decoder attention of DecoderLayer)\n",
    "      这个attention在DecoderLayer第二个attention层上做的\n",
    "      上面需要在二者之间做attention decoer的隐含状态和encoder的输出做的attention\n",
    "      encoder有padding  所以那些padding是不需要的做attention的 需要过滤\n",
    "      - decoder_padding_mask (self attention of DecoderLayer)\n",
    "    look_ahead_mask 和 decoder_padding_mask 都是在 DecoderLayer第一个attention 并且是自缩放点积注意力\n",
    "    而在MultiHeadAttention类中的scaled_dot_product_attention 函数只有一个mask的输入，所以需要把两个mask合并\n",
    "    ‘与’  操作  只要在任何词在二者一个位置上，都认为被mask了\n",
    "    \"\"\"\n",
    "    encoder_padding_mask = create_padding_mask(inp)\n",
    "    encoder_decoder_padding_mask = create_padding_mask(inp)\n",
    "    # 其实encoder_decoder_padding_mask也是咋input上的mask 因为就是encoder 的padding\n",
    "    # 但是还是分开是为了理解而已\n",
    "    look_ahead_mask = create_look_ahead_mask(tf.shape(tar)[1])  # 为啥是一维度 seq-len\n",
    "    # look_ahead_mask创建的mask是一个正方形，正方形的边长就是句子的长度 里面的值上三角是1下三角和对角线都0\n",
    "    decoder_padding_mask = create_padding_mask(tar)\n",
    "    # look_ahead_mask & decoder_padding_mask 作用在同一层次，需要合并\n",
    "    # 与操作，因为都是01，被mask的部分是1，不被mask的部分是0  我觉得可以这么理解最大值，如果任何一个是1\n",
    "    # 也就是需要被mask 那么就是1 ，如果两个都是0就不需要mask 就是0 所以是maximun\n",
    "    decoder_mask = tf.maximum(decoder_padding_mask,look_ahead_mask)\n",
    "    # print(encoder_padding_mask.shape)\n",
    "    # print(encoder_decoder_padding_mask.shape)\n",
    "    # print(look_ahead_mask.shape)\n",
    "    # print(decoder_padding_mask.shape)\n",
    "    # print(decoder_mask.shape)\n",
    "    # (64, 40)         input\n",
    "    # (64, 38)         target\n",
    "    # (64, 1, 1, 40)   input 的mask\n",
    "    # (64, 1, 1, 40)   差不多\n",
    "    # (38, 38)         方阵 上下三角矩阵\n",
    "    # (64, 1, 1, 38)   target的mask\n",
    "    # (64, 1, 38, 38)  为什么是这个维度：因为（38，38）维度不够，所以先复制成（64，1，38，38）\n",
    "    # 此时(64, 1, 1, 38)的维度也不够了，那么会在自己最后一维38 复制38分让倒数第二维度成38 就可加了\n",
    "    # 这时候的decoder_mask就兼具两种mask信息 不关注padding也不能看到后面的词\n",
    "    return encoder_padding_mask,decoder_mask,encoder_decoder_padding_mask\n"
   ],
   "metadata": {
    "collapsed": false,
    "pycharm": {
     "name": "#%%\n"
    }
   }
  },
  {
   "cell_type": "code",
   "execution_count": 29,
   "outputs": [],
   "source": [
    "temp_inp,temp_tar = iter(train_dataset.take(1)).next()"
   ],
   "metadata": {
    "collapsed": false,
    "pycharm": {
     "name": "#%%\n"
    }
   }
  },
  {
   "cell_type": "code",
   "execution_count": 30,
   "outputs": [
    {
     "name": "stdout",
     "output_type": "stream",
     "text": [
      "(64, 39)\n",
      "(64, 40)\n"
     ]
    }
   ],
   "source": [
    "# 从train dataset 里面取数据需要填充buffer size的缓冲区，因为要做shuffle，所以上述代码需要一定时间\n",
    "print(temp_inp.shape)\n",
    "print(temp_tar.shape)"
   ],
   "metadata": {
    "collapsed": false,
    "pycharm": {
     "name": "#%%\n"
    }
   }
  },
  {
   "cell_type": "code",
   "execution_count": 31,
   "outputs": [
    {
     "data": {
      "text/plain": "(<tf.Tensor: shape=(64, 1, 1, 39), dtype=float32, numpy=\n array([[[[0., 0., 0., ..., 1., 1., 1.]]],\n \n \n        [[[0., 0., 0., ..., 1., 1., 1.]]],\n \n \n        [[[0., 0., 0., ..., 1., 1., 1.]]],\n \n \n        ...,\n \n \n        [[[0., 0., 0., ..., 1., 1., 1.]]],\n \n \n        [[[0., 0., 0., ..., 1., 1., 1.]]],\n \n \n        [[[0., 0., 0., ..., 1., 1., 1.]]]], dtype=float32)>,\n <tf.Tensor: shape=(64, 1, 40, 40), dtype=float32, numpy=\n array([[[[0., 1., 1., ..., 1., 1., 1.],\n          [0., 0., 1., ..., 1., 1., 1.],\n          [0., 0., 0., ..., 1., 1., 1.],\n          ...,\n          [0., 0., 0., ..., 1., 1., 1.],\n          [0., 0., 0., ..., 1., 1., 1.],\n          [0., 0., 0., ..., 1., 1., 1.]]],\n \n \n        [[[0., 1., 1., ..., 1., 1., 1.],\n          [0., 0., 1., ..., 1., 1., 1.],\n          [0., 0., 0., ..., 1., 1., 1.],\n          ...,\n          [0., 0., 0., ..., 1., 1., 1.],\n          [0., 0., 0., ..., 1., 1., 1.],\n          [0., 0., 0., ..., 1., 1., 1.]]],\n \n \n        [[[0., 1., 1., ..., 1., 1., 1.],\n          [0., 0., 1., ..., 1., 1., 1.],\n          [0., 0., 0., ..., 1., 1., 1.],\n          ...,\n          [0., 0., 0., ..., 1., 1., 1.],\n          [0., 0., 0., ..., 1., 1., 1.],\n          [0., 0., 0., ..., 1., 1., 1.]]],\n \n \n        ...,\n \n \n        [[[0., 1., 1., ..., 1., 1., 1.],\n          [0., 0., 1., ..., 1., 1., 1.],\n          [0., 0., 0., ..., 1., 1., 1.],\n          ...,\n          [0., 0., 0., ..., 1., 1., 1.],\n          [0., 0., 0., ..., 1., 1., 1.],\n          [0., 0., 0., ..., 1., 1., 1.]]],\n \n \n        [[[0., 1., 1., ..., 1., 1., 1.],\n          [0., 0., 1., ..., 1., 1., 1.],\n          [0., 0., 0., ..., 1., 1., 1.],\n          ...,\n          [0., 0., 0., ..., 1., 1., 1.],\n          [0., 0., 0., ..., 1., 1., 1.],\n          [0., 0., 0., ..., 1., 1., 1.]]],\n \n \n        [[[0., 1., 1., ..., 1., 1., 1.],\n          [0., 0., 1., ..., 1., 1., 1.],\n          [0., 0., 0., ..., 1., 1., 1.],\n          ...,\n          [0., 0., 0., ..., 1., 1., 1.],\n          [0., 0., 0., ..., 1., 1., 1.],\n          [0., 0., 0., ..., 1., 1., 1.]]]], dtype=float32)>,\n <tf.Tensor: shape=(64, 1, 1, 39), dtype=float32, numpy=\n array([[[[0., 0., 0., ..., 1., 1., 1.]]],\n \n \n        [[[0., 0., 0., ..., 1., 1., 1.]]],\n \n \n        [[[0., 0., 0., ..., 1., 1., 1.]]],\n \n \n        ...,\n \n \n        [[[0., 0., 0., ..., 1., 1., 1.]]],\n \n \n        [[[0., 0., 0., ..., 1., 1., 1.]]],\n \n \n        [[[0., 0., 0., ..., 1., 1., 1.]]]], dtype=float32)>)"
     },
     "execution_count": 31,
     "metadata": {},
     "output_type": "execute_result"
    }
   ],
   "source": [
    "create_masks(temp_inp,temp_tar)"
   ],
   "metadata": {
    "collapsed": false,
    "pycharm": {
     "name": "#%%\n"
    }
   }
  },
  {
   "cell_type": "code",
   "execution_count": 32,
   "outputs": [],
   "source": [
    "train_loss = keras.metrics.Mean(name = \"train_loss\")\n",
    "train_accuracy = keras.metrics.SparseCategoricalAccuracy(name = \"train_accuracy\")\n",
    "# 可累积的观测参数\n",
    "# 但这个精度并不是机器翻译那个评价指标，只是直观的看一下结果\n",
    "@tf.function\n",
    "def train_step(inp,tar):\n",
    "    # inp 就是直接输入给encoder 而decoder是需要输入上一个词预测下一个词，所以 tar需要切分\n",
    "    tar_inp = tar[:,:-1]  # 从第一个到倒数第二个  输入给decoder预测是不是tar_real\n",
    "    tar_real = tar[:,1:]  # 从第二个到最后一个  真值\n",
    "\n",
    "    encoder_padding_mask,decoder_mask,encoder_decoder_padding_mask = create_masks(inp,tar_inp)\n",
    "\n",
    "    with tf.GradientTape() as tape:\n",
    "        predictions,_ = transformer(inp,tar_inp,True,encoder_padding_mask,\n",
    "                                   decoder_mask,encoder_decoder_padding_mask)\n",
    "        loss = loss_function(tar_real,predictions)\n",
    "    gradients = tape.gradient(loss,transformer.trainable_variables)\n",
    "    optimizer.apply_gradients(zip(gradients,transformer.trainable_variables))\n",
    "    train_loss(loss)  # 累积的平均loss\n",
    "    train_accuracy(tar_real,predictions)  # 累积的平均acc\n",
    "    \n"
   ],
   "metadata": {
    "collapsed": false,
    "pycharm": {
     "name": "#%%\n"
    }
   }
  },
  {
   "cell_type": "code",
   "execution_count": 33,
   "outputs": [],
   "source": [
    "# epochs = 2\n",
    "# for epoch in range(epochs):\n",
    "#     start = time.time()\n",
    "#     # 在遍历数据集之前重置\n",
    "#     train_loss.reset_states()\n",
    "#     train_accuracy.reset_states()\n",
    "#\n",
    "#     for (batch, (inp, tar)) in enumerate(train_dataset):\n",
    "#         train_step(inp, tar)\n",
    "#         if batch % 100 == 0:\n",
    "#             print('Epoch {} Batch {} Loss {:.4f} Accuracy {:.4f}'.format(\n",
    "#                 epoch + 1, batch, train_loss.result(),\n",
    "#                 train_accuracy.result()))\n",
    "#     print('Epoch {} Loss {:.4f} Accuracy {:.4f}'.format(\n",
    "#         epoch + 1, train_loss.result(), train_accuracy.result()))\n",
    "#     print('Time take for 1 epoch: {} secs\\n'.format(\n",
    "#         time.time() - start))\n"
   ],
   "metadata": {
    "collapsed": false,
    "pycharm": {
     "name": "#%%\n"
    }
   }
  },
  {
   "cell_type": "code",
   "execution_count": 48,
   "outputs": [
    {
     "name": "stdout",
     "output_type": "stream",
     "text": [
      "Input: está muito frio aqui.\n",
      "Predicted translation: it 's very cold here .\n",
      "Input: isto é minha vida\n",
      "Predicted translation: this is my life .\n",
      "Input: você ainda está em casa?\n",
      "Predicted translation: are you still in home ?\n",
      "Input: este é o primeiro livro que eu já li\n",
      "Predicted translation: this is the first book i already have .\n",
      "Input: este é o primeiro livro que eu já li\n",
      "Predicted translation: this is the first book i already have .\n"
     ]
    },
    {
     "data": {
      "text/plain": "<Figure size 1152x576 with 8 Axes>",
      "image/png": "[encoded data removed]"
     },
     "metadata": {
      "needs_background": "light"
     },
     "output_type": "display_data"
    }
   ],
   "source": [
    "\"\"\"\n",
    "eg: A B C D -> E F G H.    输入abcd 想的到efgh\n",
    "Train: A B C D, E F G -> F G H\n",
    "解读下：那么在训练的时候，为什么是 EFG ，因为就是那个tar-inp 一直到倒数第二个。希望可以预测FGH。在这个过程中，当看到abcd和e时候预测f\n",
    "当看到abcdef时候预测g 当看到abcdefg时候预测h，因为在训练时候target是知道的，可以当作矩阵输入，也就是train-step里面的tar-inp\n",
    "因为有look—ahead-mask保证前面的单词看不到后面的单词。\n",
    "\n",
    "Eval:  A B C D -> E\n",
    "       A B C D, E -> F\n",
    "       A B C D, E F -> G\n",
    "       A B C D, E F G -> H\n",
    "解读：没有GT，就得单步。和seq2seq + attention 的思想是一样的。不同的是transformer可以并行化处理，处理encoder和decoder没前后计算的依赖\n",
    "\"\"\"\n",
    "\n",
    "\n",
    "def evaluate(inp_sentence):\n",
    "    # 和构建数据集一样，将文本的句子转化成ID的句子\n",
    "    inp_id_sentence = [pt_tokenizer.vocab_size] + pt_tokenizer.encode(inp_sentence) + [pt_tokenizer.vocab_size + 1]\n",
    "    # 由于transformer的输入是一个（batchsize，seq_len）的矩阵，所以需要对数据进行扩充维度\n",
    "    # encoder_input.shape = (1,inp_id_sentence长度)\n",
    "    encoder_input = tf.expand_dims(inp_id_sentence, axis = 0)\n",
    "    # decoder_input 一开始只有一个ID，就是start id    shape = (1,1)\n",
    "    decoder_input = tf.expand_dims([en_tokenizer.vocab_size], axis = 0)  # 以后每预测一个词就加到decoder_input上\n",
    "    # 最后decoder_input的shape就成了decoder_output\n",
    "\n",
    "    for i in range(max_length):\n",
    "        encoder_padding_mask, decoder_mask, encoder_decoder_padding_mask \\\n",
    "            = create_masks(encoder_input, decoder_input)\n",
    "        # 此时这个decoder_input已经是那种看不到后面的单词的了，因为就是从零开始预测的，所以look_ahead_mask就没用了，但是为了统一起见，还是生成了\n",
    "        # predictions.shape: (batch_size, output_target_len, target_vocab_size)  output_target_len就是decoder_input当前长度\n",
    "        predictions, attention_weights = transformer(\n",
    "            encoder_input,\n",
    "            decoder_input,\n",
    "            False,\n",
    "            encoder_padding_mask,\n",
    "            decoder_mask,\n",
    "            encoder_decoder_padding_mask)\n",
    "        # 这边当decoder_input长度为1就给出1个预测，为2就给出2个预测，为n就预测n个值   和seq + attention不一样，那个本身就是个单步的model\n",
    "        # 那个就是每次只得到这一步的输出，而transformer 在decoder过程中是多步的预测，但是我想要的还是单步预测值，也就是最后一个，所以需要切片\n",
    "        # predictions.shape: (batch_size, target_vocab_size)\n",
    "        predictions = predictions[:, -1, :]  # 中间那个维度就是预测很多个值，但是我们只取最后一个值\n",
    "\n",
    "        # 取出概率最大的索引  得到下一步的预测输入\n",
    "        predicted_id = tf.cast(tf.argmax(predictions, axis = -1), dtype = tf.int32)\n",
    "\n",
    "        # 和seq + attention 一样 需要和end id 进行比较\n",
    "        # 由于decoder_input是（1，target_len）  不需要第一个维度\n",
    "        if tf.equal(predicted_id, en_tokenizer.vocab_size + 1):\n",
    "            return tf.squeeze(decoder_input, axis = 0), attention_weights\n",
    "\n",
    "        decoder_input = tf.concat([decoder_input, [predicted_id]], axis = -1)  # 如果不是end 就拼接,加中括号是维度问题，predicted_id就是一个数\n",
    "\n",
    "    return tf.squeeze(decoder_input, axis = 0), attention_weights\n",
    "\n",
    "\n",
    "def plot_encoder_decoder_attention(attention, input_sentence,\n",
    "                                   result, layer_name):\n",
    "    # layer_name 指的是 attention weights 中的key 因为attention weights是一个字典，每个key就是字符串，value就是对应的attention权重\n",
    "    # 其实就是encoder和decoder之间的key name\n",
    "    fig = plt.figure(figsize = (16, 8))\n",
    "    # 文本----->ID\n",
    "    input_id_sentence = pt_tokenizer.encode(input_sentence)\n",
    "    # attention.shape: (batch_size,num_heads, tar_len, input_len)  可以看前面的多头注意力\n",
    "    attention = tf.squeeze(attention[layer_name], axis = 0)  # (num_heads, tar_len, input_len)\n",
    "    # 多个头，每个头都有一个attention的权重\n",
    "    # print(attention)\n",
    "    # print(attention.shape)\n",
    "    for head in range(8):\n",
    "        # print(type(head))\n",
    "        ax = fig.add_subplot(2, 4, head + 1)  # 两行四列\n",
    "        ax.matshow(attention[head][:-1, :]  , cmap = \"viridis\")  # 这边切片是因为，刚才在预测时候我把end id 给去除了，所以这边是在tar_len维度上取到倒数第二个\n",
    "        font_dict = {'fontsize': 10}\n",
    "\n",
    "        ax.set_xticks(range(len(input_id_sentence) + 2))  # +2 is start and end id\n",
    "        ax.set_yticks(range(len(result)))  # 这两个函数接受的参数都是一个列表，所以 用range转化为列表\n",
    "\n",
    "        ax.set_ylim(len(result) - 1.5, -0.5)  # 因为下面排除了start id 所以减去1.5\n",
    "        # 设置每个锚点上对应的label\n",
    "        ax.set_xticklabels(  # 取start和每个id对应词，用decode方法 还有 end  旋转\n",
    "            ['<start>'] + [pt_tokenizer.decode([i]) for i in input_id_sentence] + ['<end>'],\n",
    "            fontdict = font_dict, rotation = 90)\n",
    "        ax.set_yticklabels(  # 小于en_tokenizer.vocab_size的ID才转换，排除start和end\n",
    "            [en_tokenizer.decode([i]) for i in result if i < en_tokenizer.vocab_size],\n",
    "            fontdict = font_dict)\n",
    "        ax.set_xlabel('Head {}'.format(head + 1))  # 第几个head\n",
    "\n",
    "    plt.tight_layout()  # 自适应调整间距\n",
    "    plt.show()\n",
    "\n",
    "\n",
    "def translate(input_sentence, layer_name = ''):\n",
    "    result, attention_weights = evaluate(input_sentence)  # result还只是ID\n",
    "\n",
    "    predicted_sentence = en_tokenizer.decode(  # 不去decoder start 和end\n",
    "        [i for i in result if i < en_tokenizer.vocab_size])\n",
    "\n",
    "    print(\"Input: {}\".format(input_sentence))\n",
    "    print(\"Predicted translation: {}\".format(predicted_sentence))\n",
    "\n",
    "    if layer_name:\n",
    "        plot_encoder_decoder_attention(attention_weights, input_sentence,\n",
    "                                       result, layer_name)\n",
    "\n",
    "\n",
    "checkpoint.restore(tf.train.latest_checkpoint(checkpoint_dir))\n",
    "translate('está muito frio aqui.')\n",
    "\n",
    "translate('isto é minha vida')\n",
    "\n",
    "translate('você ainda está em casa?')\n",
    "\n",
    "translate('este é o primeiro livro que eu já li')\n",
    "\n",
    "translate('este é o primeiro livro que eu já li',\n",
    "          layer_name = 'decoder_layer4_att2')\n"
   ],
   "metadata": {
    "collapsed": false,
    "pycharm": {
     "name": "#%%\n"
    }
   }
  },
  {
   "cell_type": "code",
   "execution_count": 51,
   "outputs": [
    {
     "name": "stdout",
     "output_type": "stream",
     "text": [
      "Input: Podemos leer en una casa grande.\n",
      "Predicted translation: i want to be asked to be big books .\n"
     ]
    },
    {
     "data": {
      "text/plain": "<Figure size 1152x576 with 8 Axes>",
      "image/png": "[encoded data removed]"
     },
     "metadata": {
      "needs_background": "light"
     },
     "output_type": "display_data"
    }
   ],
   "source": [
    "translate('Podemos leer en una casa grande.',\n",
    "          layer_name = 'decoder_layer4_att2')\n"
   ],
   "metadata": {
    "collapsed": false,
    "pycharm": {
     "name": "#%%\n"
    }
   }
  }
 ],
 "metadata": {
  "kernelspec": {
   "display_name": "Python 3",
   "language": "python",
   "name": "python3"
  },
  "language_info": {
   "codemirror_mode": {
    "name": "ipython",
    "version": 2
   },
   "file_extension": ".py",
   "mimetype": "text/x-python",
   "name": "python",
   "nbconvert_exporter": "python",
   "pygments_lexer": "ipython2",
   "version": "2.7.6"
  }
 },
 "nbformat": 4,
 "nbformat_minor": 0
}